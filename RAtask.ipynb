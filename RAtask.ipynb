{
 "cells": [
  {
   "cell_type": "code",
   "execution_count": 1,
   "metadata": {},
   "outputs": [],
   "source": [
    "import csv\n"
   ]
  },
  {
   "cell_type": "code",
   "execution_count": 2,
   "metadata": {},
   "outputs": [
    {
     "name": "stdout",
     "output_type": "stream",
     "text": [
      "261\n"
     ]
    }
   ],
   "source": [
    "i=0\n",
    "with open('skills_accountant.csv', 'r') as csv_file:\n",
    "    csv_reader=csv.reader(csv_file)\n",
    "    unique_val=[]\n",
    "    all_val=[]\n",
    "    for x in csv_reader:\n",
    "        all_val.append(x)\n",
    "        if x not in unique_val:\n",
    "            unique_val.append(x)\n",
    "    for x in unique_val:\n",
    "        i=i+1\n",
    "    print(i)"
   ]
  },
  {
   "cell_type": "code",
   "execution_count": 3,
   "metadata": {},
   "outputs": [
    {
     "data": {
      "text/plain": [
       "261"
      ]
     },
     "execution_count": 3,
     "metadata": {},
     "output_type": "execute_result"
    }
   ],
   "source": [
    "len(unique_val)"
   ]
  },
  {
   "cell_type": "code",
   "execution_count": null,
   "metadata": {},
   "outputs": [],
   "source": []
  },
  {
   "cell_type": "code",
   "execution_count": 4,
   "metadata": {},
   "outputs": [],
   "source": [
    "unique_val = [j for sub in unique_val for j in sub] "
   ]
  },
  {
   "cell_type": "code",
   "execution_count": 5,
   "metadata": {},
   "outputs": [],
   "source": [
    "all_val = [k for sub in all_val for k in sub] "
   ]
  },
  {
   "cell_type": "code",
   "execution_count": 6,
   "metadata": {},
   "outputs": [
    {
     "name": "stdout",
     "output_type": "stream",
     "text": [
      "['Filing', 'Accounts Administrator', 'Sales Ledger', 'Management Accounts', 'CIMA', 'Financial Reporting', 'accounts assistant', 'Accountancy', 'Management Accountant', 'Accounting', 'Admin', 'Accounts Receivable', 'Excel', 'Cashflow Analysis', 'leeds', 'cima', 'acca ', 'Process', 'ACCA', 'finance assistant', 'Bookkeeper', 'Finance', 'Accountant', 'Month end', 'ACCA', 'Accountant', 'Ipswich Permanent', 'Qualified Management', 'ACA', 'CIMA', 'ACCA', 'Annual Budget', 'Statutory Accounts', 'Corporation Tax', 'Bookkeeping', 'Insolvency', 'Commercial Awareness', 'FCCA', 'Xero', 'QBE', 'Client Accounts', 'General Ledger', 'book keeper', 'Finance', 'Assistant Accountant', 'Accountancy', 'Practice Accountant', 'aca', 'Management Accounts Assistant', 'Bank Reconciliations', 'Accountants', 'VAT', 'Accountancy', 'Sage', 'accounts assistant', 'management', 'AAT', 'accountant', 'ACCA', 'CIMA', 'financial accountant', 'accounts assistant', 'accounts administrator', 'Leeds', 'AAT', 'part qualified ACCA', 'bank reconciliations', 'Accounting', 'Tax', 'purchase ledger', 'Relationships', 'Accounting Software', 'Bookkeeping', 'Management Accounts', 'Financial Accountant', 'tax', 'VAT', 'audit', 'accountancy', 'bookkeeping', 'Balance Sheet', 'Reporting', 'Accountants', 'Financial Accounting', 'Statutory Accounts', 'Advanced Excel', 'Assets', 'Assistant Accountant', 'Tax', 'professional services', 'Accountancy', 'Payroll', 'Accountancy Firm', 'assistant management accountant', 'Accountant', 'Bookkeeping', 'ACA', 'Account Management', 'Senior Accountant', 'Statutory Accounts', 'AAT', 'Accountancy Practice', 'Reporting', 'Double Entry', 'Sage', 'ACA', 'Vat Returns', 'ACCA', 'Finance', 'Account Management', 'Qualified', 'Senior Accountant', 'CIMA', 'CIMA', 'Year End Accounts', 'ACA', 'ICAS', 'ACCA', 'Chartered Accountant', 'CIMA', 'Audit', 'Senior Accountant', 'Accounting', 'finance', 'ACCA', 'VAT', 'Accountancy Firm', 'Management Information', 'AAT', 'accountant', 'tax', 'accountancy', 'bookkeeping', 'audit', 'VAT', 'Statutory Accounts', 'Management Accounts', 'Finance Manager', 'Credit Control', 'IFRS', 'Tax', 'cima acca commercial', 'Finance', 'Professional', 'Statutory Accounts', 'Management Accounts', 'Reporting', 'accounts assistant', 'Vlookup', 'Purchase Ledger', 'TREASURY', 'Senior Accountant', 'Senior Accountant', 'Accounting', 'AAT', 'Acc', 'Senior Accountant', 'Accountant', 'tax returns', 'Audit Assistant', 'Audit Senior', 'Accounts preparation', 'Accountancy', 'AAT', 'Financial Accountant', 'Accountancy', 'Communication Skills', 'SME', 'senior accountant', 'Accountants', 'statement reconciliations', 'accountant manager', 'accountant', 'Lloyds', 'Senior Accountant', 'Leeds', 'SLA', 'Accountant in Public Practice', 'Accounts Assistant', 'Accountant', 'ACA', 'Chartered Accountancy', 'tax accountant', 'Management Accounts', 'management accounts', 'Accounting', 'Financial Services', 'AAT', 'law firm', 'Communication', 'Development', 'Group Financial Accountant', 'Accounting', 'Tax', 'Tax', 'chartered accountants', 'Accounting', 'Motor Trade Jobs', 'AAT', 'ACA', 'Statutory Accounts', 'Statutory Accounts', 'Vlookup', 'Tax', 'part qualified', 'council', 'ACA qualified', 'ASSISTANT MANAGEMENT ACCOUNTANT', 'ACCA', 'financial accountant', 'Bank Reconciliations', 'CIMA', 'Purchase Orders', 'Accountancy Firm', 'Management Accounts', 'Accountancy', 'CIMA', 'Finance', 'Month End Close', 'Accountant', 'Tax', 'acca', 'Accountancy Firm', 'Accountancy', 'Accountant', 'Accountant', 'Corporation Tax', 'AAT', 'Ledger', 'Chartered Accountants', 'Manufacturing', 'Financial Accountant', 'assistant accountant', 'reporting financial accountant', 'Management Accounts', 'Qualified Chartered Accountant', 'Central London', 'ACA', 'Syndicate', 'Management accountant', 'Audit', 'Corporation Tax', 'Communication Skills', 'Vat Returns', 'ACCA', 'temporary', 'public sector', 'assistant managment accountant', 'financial accountant', 'accounts assistant', 'assistant accountant', 'Management Accounts', 'ACCA', 'Motor Trade', 'Tax', 'Financial Reporting', 'Xero', 'Queries', 'Financial Accountant', 'Chartered Accountants', 'Financial Accounting', 'Qualified Chartered Accountant', 'Accountancy Firm', 'A month end reporting role with business partnering', 'Shared Services', 'Finance', 'Accountants', 'Reviewing', 'Chartered', 'VAT', 'CIMA', 'Management Accounts', 'accountant', 'Repoerting accountant', 'CIMA', 'AAT', 'Accountant', 'Accountants', 'financial accountant', 'Forecasting', 'General Ledger', 'ACA', 'icas', 'accounts', 'Practice', 'Bookkeeping', 'real estate', 'Stock', 'Accounting', 'DEVELOPMENT ACCOUNTANT', 'Performance', 'Bookkeeping', 'AP', 'IFRS', 'Vat Returns', 'ACCA', 'P&L Responsibility', 'Xero', 'ACA', 'Accountants', 'financial services', 'Credit', 'Automotive', 'Vat Returns', 'Journals', 'ASSISTANT ACCOUNTANT', 'Reporting Accountant', 'personal expenses', 'Management', 'AAT', 'Accounting', 'Reporting', 'Excel', 'Financial reporting', 'Accountancy', 'Management', 'financial controller', 'ACA', 'Reporting', 'AAT', 'Payroll', 'Advanced Excel', 'Reporting', 'IRIS', 'Accounts Payable', 'Practice', 'Corporation Tax', 'ISIS', 'group reporting manager', 'Financial Reporting', 'Training', 'Statutory Accounts', 'Accountants', 'accounts payable', 'Client Accounts', 'Tax Returns', 'Accounts Assistant', 'Accountants', 'Management Accountant', 'Accounts Assistant', 'Finance Controller', 'Management Accountant role', 'AAT', 'reconciliations', 'Accounts', 'Part Qualified', 'Accounting', 'Audit', 'AAT', 'Accounting', 'Bradford', 'Financial Audits', 'Senior Accountant', 'Revenue', 'Interpersonal Skills', 'Accountancy', 'Excel', 'QuickBooks', 'Collaborative Work', 'VAT returns', 'Advanced Excel', 'accountant', 'ACCA', 'Balance Sheet', 'Accountant', 'Automotive', 'Franchise Accountant', 'ACCA', 'Accountancy', 'Bradford', 'Accountancy', 'Treasury', 'Insurance', 'City of London', 'Accountancy', 'Accountant', 'Derby', 'Accounting', 'Tax', 'Audit', 'invoices', 'General Ledger', 'CIMA', 'CIMA', 'payment run', 'Trafford', 'Payroll', 'accountancy', 'Accounting', 'Accounting', 'Budgeting', 'Tax', 'Balance Sheet', 'ACCA', 'Accountants', 'Accountant', 'Financial Accounting', 'Sage Line 50', 'Reconciling', 'ACCA', 'Bookkeeping', 'Report', 'newly qualified', 'Audit', 'Corporation', 'Management', 'CIMA', 'Assistant Accountant', 'Part Qualified', 'Monthly Accounts', 'permanent', 'Reporting', 'Invoice Processing', 'CIMA or ACA', 'Year end statutory accounts', 'capital Accountant', 'Corporation Tax', 'Accountancy', 'bookkeeping', 'MANAGEMENT ACCOUNTANT', 'Accountancy Firm', 'Accountancy Firm', 'Practice', 'bookkeeper', 'Balance sheet reconciliations', 'Management Accountant', 'Sage Line 50', 'Leicester', 'ACA', 'Reconciliation', 'Chartered Accountants', 'Acca', 'Tax', 'Accounts Payable', 'accountancy', 'ACCA', ' technology mid-tier', 'portfolio tech clients', ' Xero clients', 'outsourcing', ' assistant management accountant', 'management accountant', 'project accountant', 'payment runs', 'Balance Sheet', 'Accountancy', 'property', 'Accountant', 'finance', 'Analysis', 'Problem Solving', 'accountannt', 'ACCA', 'ACA', 'ACA', 'Industrial/ Manufacturing Engineer', 'Management Accountancy', 'UKGAAP', 'VAT', 'Chartered Accountant', 'Management Accounts', 'Assistant Management Accountant', 'ACMA', 'Tax', 'Accountant', 'Management', 'Tax', 'Balance Sheet', 'ACA', 'Finance Manager', 'ACCA', 'finance', 'ACCA', 'Financial Reporting', 'ACCA', 'AAT', 'reporting manager', 'ACA', 'Management Accounts', 'Accountants', 'Accountancy', 'Accountancy', 'Sage Accounts', 'Management Accounts', 'Management Accounts', 'Dealing', 'Accounting', 'ACCA', 'MTD', 'Senior Financial Accountant', 'ACCA', 'Newly qualified', 'accountant', 'Payroll', 'General Practice', 'Training', 'Accounting', 'Communication Skills', 'ACCA', 'Tax Returns', 'ACCA', 'Bought ledger', 'Finance', 'ICAEW', 'payroll,', 'Accountancy Firm', 'Leicestershire', 'SAGE', 'QBE', 'Accountant', 'Accruals', 'Qualified', 'Finance Jobs', 'cima', 'Assistant accountant', 'Sole Traders', 'FMCG', 'Accountant', 'Accounts', 'practice trained', 'AAT', 'Accounting', 'Year End Accounts', 'Assistant Accountant', 'CA', 'Qualified Chartered Accountant', 'ACA', 'Accountancy', 'Budgets', 'Accountancy', 'Cash Flow Reporting', 'processing invoices', 'Group Accountant', 'Chartered Accountants', 'External Audit', 'Accountant', 'Accountant', 'icaew', 'Finance Manager', 'Training', 'Accountant', 'Accountant', 'Technical', 'Payroll', 'Accounting', 'Account Management ', 'Tax', 'Finance Manager', 'Group Accountant', 'Main Car Dealership', 'multicurrency', 'Accountancy Firm', 'accounts manager', 'Prepayment', 'Private Sector', 'Accountant', 'Accountant', 'ACCA', 'recently qualified', 'apprenticeship', ' ACA', 'ACCA', 'AAT', 'acca', 'senior accountant', 'client manager', 'aca']\n"
     ]
    }
   ],
   "source": [
    "print(all_val)"
   ]
  },
  {
   "cell_type": "code",
   "execution_count": 7,
   "metadata": {},
   "outputs": [
    {
     "name": "stdout",
     "output_type": "stream",
     "text": [
      "0 : Filing\n",
      "1 : Accounts Administrator\n",
      "2 : Sales Ledger\n",
      "3 : Management Accounts\n",
      "4 : CIMA\n",
      "5 : Financial Reporting\n",
      "6 : accounts assistant\n",
      "7 : Accountancy\n",
      "8 : Management Accountant\n",
      "9 : Accounting\n",
      "10 : Admin\n",
      "11 : Accounts Receivable\n",
      "12 : Excel\n",
      "13 : Cashflow Analysis\n",
      "14 : leeds\n",
      "15 : cima\n",
      "16 : acca \n",
      "17 : Process\n",
      "18 : ACCA\n",
      "19 : finance assistant\n",
      "20 : Bookkeeper\n",
      "21 : Finance\n",
      "22 : Accountant\n",
      "23 : Month end\n",
      "24 : Ipswich Permanent\n",
      "25 : Qualified Management\n",
      "26 : ACA\n",
      "27 : Annual Budget\n",
      "28 : Statutory Accounts\n",
      "29 : Corporation Tax\n",
      "30 : Bookkeeping\n",
      "31 : Insolvency\n",
      "32 : Commercial Awareness\n",
      "33 : FCCA\n",
      "34 : Xero\n",
      "35 : QBE\n",
      "36 : Client Accounts\n",
      "37 : General Ledger\n",
      "38 : book keeper\n",
      "39 : Assistant Accountant\n",
      "40 : Practice Accountant\n",
      "41 : aca\n",
      "42 : Management Accounts Assistant\n",
      "43 : Bank Reconciliations\n",
      "44 : Accountants\n",
      "45 : VAT\n",
      "46 : Sage\n",
      "47 : management\n",
      "48 : AAT\n",
      "49 : accountant\n",
      "50 : financial accountant\n",
      "51 : accounts administrator\n",
      "52 : Leeds\n",
      "53 : part qualified ACCA\n",
      "54 : bank reconciliations\n",
      "55 : Tax\n",
      "56 : purchase ledger\n",
      "57 : Relationships\n",
      "58 : Accounting Software\n",
      "59 : Financial Accountant\n",
      "60 : tax\n",
      "61 : audit\n",
      "62 : accountancy\n",
      "63 : bookkeeping\n",
      "64 : Balance Sheet\n",
      "65 : Reporting\n",
      "66 : Financial Accounting\n",
      "67 : Advanced Excel\n",
      "68 : Assets\n",
      "69 : professional services\n",
      "70 : Payroll\n",
      "71 : Accountancy Firm\n",
      "72 : assistant management accountant\n",
      "73 : Account Management\n",
      "74 : Senior Accountant\n",
      "75 : Accountancy Practice\n",
      "76 : Double Entry\n",
      "77 : Vat Returns\n",
      "78 : Qualified\n",
      "79 : Year End Accounts\n",
      "80 : ICAS\n",
      "81 : Chartered Accountant\n",
      "82 : Audit\n",
      "83 : finance\n",
      "84 : Management Information\n",
      "85 : Finance Manager\n",
      "86 : Credit Control\n",
      "87 : IFRS\n",
      "88 : cima acca commercial\n",
      "89 : Professional\n",
      "90 : Vlookup\n",
      "91 : Purchase Ledger\n",
      "92 : TREASURY\n",
      "93 : Acc\n",
      "94 : tax returns\n",
      "95 : Audit Assistant\n",
      "96 : Audit Senior\n",
      "97 : Accounts preparation\n",
      "98 : Communication Skills\n",
      "99 : SME\n",
      "100 : senior accountant\n",
      "101 : statement reconciliations\n",
      "102 : accountant manager\n",
      "103 : Lloyds\n",
      "104 : SLA\n",
      "105 : Accountant in Public Practice\n",
      "106 : Accounts Assistant\n",
      "107 : Chartered Accountancy\n",
      "108 : tax accountant\n",
      "109 : management accounts\n",
      "110 : Financial Services\n",
      "111 : law firm\n",
      "112 : Communication\n",
      "113 : Development\n",
      "114 : Group Financial Accountant\n",
      "115 : chartered accountants\n",
      "116 : Motor Trade Jobs\n",
      "117 : part qualified\n",
      "118 : council\n",
      "119 : ACA qualified\n",
      "120 : ASSISTANT MANAGEMENT ACCOUNTANT\n",
      "121 : Purchase Orders\n",
      "122 : Month End Close\n",
      "123 : acca\n",
      "124 : Ledger\n",
      "125 : Chartered Accountants\n",
      "126 : Manufacturing\n",
      "127 : assistant accountant\n",
      "128 : reporting financial accountant\n",
      "129 : Qualified Chartered Accountant\n",
      "130 : Central London\n",
      "131 : Syndicate\n",
      "132 : Management accountant\n",
      "133 : temporary\n",
      "134 : public sector\n",
      "135 : assistant managment accountant\n",
      "136 : Motor Trade\n",
      "137 : Queries\n",
      "138 : A month end reporting role with business partnering\n",
      "139 : Shared Services\n",
      "140 : Reviewing\n",
      "141 : Chartered\n",
      "142 : Repoerting accountant\n",
      "143 : Forecasting\n",
      "144 : icas\n",
      "145 : accounts\n",
      "146 : Practice\n",
      "147 : real estate\n",
      "148 : Stock\n",
      "149 : DEVELOPMENT ACCOUNTANT\n",
      "150 : Performance\n",
      "151 : AP\n",
      "152 : P&L Responsibility\n",
      "153 : financial services\n",
      "154 : Credit\n",
      "155 : Automotive\n",
      "156 : Journals\n",
      "157 : ASSISTANT ACCOUNTANT\n",
      "158 : Reporting Accountant\n",
      "159 : personal expenses\n",
      "160 : Management\n",
      "161 : Financial reporting\n",
      "162 : financial controller\n",
      "163 : IRIS\n",
      "164 : Accounts Payable\n",
      "165 : ISIS\n",
      "166 : group reporting manager\n",
      "167 : Training\n",
      "168 : accounts payable\n",
      "169 : Tax Returns\n",
      "170 : Finance Controller\n",
      "171 : Management Accountant role\n",
      "172 : reconciliations\n",
      "173 : Accounts\n",
      "174 : Part Qualified\n",
      "175 : Bradford\n",
      "176 : Financial Audits\n",
      "177 : Revenue\n",
      "178 : Interpersonal Skills\n",
      "179 : QuickBooks\n",
      "180 : Collaborative Work\n",
      "181 : VAT returns\n",
      "182 : Franchise Accountant\n",
      "183 : Treasury\n",
      "184 : Insurance\n",
      "185 : City of London\n",
      "186 : Derby\n",
      "187 : invoices\n",
      "188 : payment run\n",
      "189 : Trafford\n",
      "190 : Budgeting\n",
      "191 : Sage Line 50\n",
      "192 : Reconciling\n",
      "193 : Report\n",
      "194 : newly qualified\n",
      "195 : Corporation\n",
      "196 : Monthly Accounts\n",
      "197 : permanent\n",
      "198 : Invoice Processing\n",
      "199 : CIMA or ACA\n",
      "200 : Year end statutory accounts\n",
      "201 : capital Accountant\n",
      "202 : MANAGEMENT ACCOUNTANT\n",
      "203 : bookkeeper\n",
      "204 : Balance sheet reconciliations\n",
      "205 : Leicester\n",
      "206 : Reconciliation\n",
      "207 : Acca\n",
      "208 :  technology mid-tier\n",
      "209 : portfolio tech clients\n",
      "210 :  Xero clients\n",
      "211 : outsourcing\n",
      "212 :  assistant management accountant\n",
      "213 : management accountant\n",
      "214 : project accountant\n",
      "215 : payment runs\n",
      "216 : property\n",
      "217 : Analysis\n",
      "218 : Problem Solving\n",
      "219 : accountannt\n",
      "220 : Industrial/ Manufacturing Engineer\n",
      "221 : Management Accountancy\n",
      "222 : UKGAAP\n",
      "223 : Assistant Management Accountant\n",
      "224 : ACMA\n",
      "225 : reporting manager\n",
      "226 : Sage Accounts\n",
      "227 : Dealing\n",
      "228 : MTD\n",
      "229 : Senior Financial Accountant\n",
      "230 : Newly qualified\n",
      "231 : General Practice\n",
      "232 : Bought ledger\n",
      "233 : ICAEW\n",
      "234 : payroll,\n",
      "235 : Leicestershire\n",
      "236 : SAGE\n",
      "237 : Accruals\n",
      "238 : Finance Jobs\n",
      "239 : Assistant accountant\n",
      "240 : Sole Traders\n",
      "241 : FMCG\n",
      "242 : practice trained\n",
      "243 : CA\n",
      "244 : Budgets\n",
      "245 : Cash Flow Reporting\n",
      "246 : processing invoices\n",
      "247 : Group Accountant\n",
      "248 : External Audit\n",
      "249 : icaew\n",
      "250 : Technical\n",
      "251 : Account Management \n",
      "252 : Main Car Dealership\n",
      "253 : multicurrency\n",
      "254 : accounts manager\n",
      "255 : Prepayment\n",
      "256 : Private Sector\n",
      "257 : recently qualified\n",
      "258 : apprenticeship\n",
      "259 :  ACA\n",
      "260 : client manager\n"
     ]
    }
   ],
   "source": [
    "c=0\n",
    "for x in unique_val:\n",
    "    print(c,':',x)\n",
    "    c=c+1\n",
    "    "
   ]
  },
  {
   "cell_type": "code",
   "execution_count": 8,
   "metadata": {},
   "outputs": [],
   "source": [
    "unique_val=[x.upper() for x in unique_val]\n",
    "    \n",
    "all_val=[y.upper() for y in all_val]    \n",
    "    "
   ]
  },
  {
   "cell_type": "code",
   "execution_count": 9,
   "metadata": {},
   "outputs": [
    {
     "name": "stdout",
     "output_type": "stream",
     "text": [
      "['FILING', 'ACCOUNTS ADMINISTRATOR', 'SALES LEDGER', 'MANAGEMENT ACCOUNTS', 'CIMA', 'FINANCIAL REPORTING', 'ACCOUNTS ASSISTANT', 'ACCOUNTANCY', 'MANAGEMENT ACCOUNTANT', 'ACCOUNTING', 'ADMIN', 'ACCOUNTS RECEIVABLE', 'EXCEL', 'CASHFLOW ANALYSIS', 'LEEDS', 'CIMA', 'ACCA ', 'PROCESS', 'ACCA', 'FINANCE ASSISTANT', 'BOOKKEEPER', 'FINANCE', 'ACCOUNTANT', 'MONTH END', 'ACCA', 'ACCOUNTANT', 'IPSWICH PERMANENT', 'QUALIFIED MANAGEMENT', 'ACA', 'CIMA', 'ACCA', 'ANNUAL BUDGET', 'STATUTORY ACCOUNTS', 'CORPORATION TAX', 'BOOKKEEPING', 'INSOLVENCY', 'COMMERCIAL AWARENESS', 'FCCA', 'XERO', 'QBE', 'CLIENT ACCOUNTS', 'GENERAL LEDGER', 'BOOK KEEPER', 'FINANCE', 'ASSISTANT ACCOUNTANT', 'ACCOUNTANCY', 'PRACTICE ACCOUNTANT', 'ACA', 'MANAGEMENT ACCOUNTS ASSISTANT', 'BANK RECONCILIATIONS', 'ACCOUNTANTS', 'VAT', 'ACCOUNTANCY', 'SAGE', 'ACCOUNTS ASSISTANT', 'MANAGEMENT', 'AAT', 'ACCOUNTANT', 'ACCA', 'CIMA', 'FINANCIAL ACCOUNTANT', 'ACCOUNTS ASSISTANT', 'ACCOUNTS ADMINISTRATOR', 'LEEDS', 'AAT', 'PART QUALIFIED ACCA', 'BANK RECONCILIATIONS', 'ACCOUNTING', 'TAX', 'PURCHASE LEDGER', 'RELATIONSHIPS', 'ACCOUNTING SOFTWARE', 'BOOKKEEPING', 'MANAGEMENT ACCOUNTS', 'FINANCIAL ACCOUNTANT', 'TAX', 'VAT', 'AUDIT', 'ACCOUNTANCY', 'BOOKKEEPING', 'BALANCE SHEET', 'REPORTING', 'ACCOUNTANTS', 'FINANCIAL ACCOUNTING', 'STATUTORY ACCOUNTS', 'ADVANCED EXCEL', 'ASSETS', 'ASSISTANT ACCOUNTANT', 'TAX', 'PROFESSIONAL SERVICES', 'ACCOUNTANCY', 'PAYROLL', 'ACCOUNTANCY FIRM', 'ASSISTANT MANAGEMENT ACCOUNTANT', 'ACCOUNTANT', 'BOOKKEEPING', 'ACA', 'ACCOUNT MANAGEMENT', 'SENIOR ACCOUNTANT', 'STATUTORY ACCOUNTS', 'AAT', 'ACCOUNTANCY PRACTICE', 'REPORTING', 'DOUBLE ENTRY', 'SAGE', 'ACA', 'VAT RETURNS', 'ACCA', 'FINANCE', 'ACCOUNT MANAGEMENT', 'QUALIFIED', 'SENIOR ACCOUNTANT', 'CIMA', 'CIMA', 'YEAR END ACCOUNTS', 'ACA', 'ICAS', 'ACCA', 'CHARTERED ACCOUNTANT', 'CIMA', 'AUDIT', 'SENIOR ACCOUNTANT', 'ACCOUNTING', 'FINANCE', 'ACCA', 'VAT', 'ACCOUNTANCY FIRM', 'MANAGEMENT INFORMATION', 'AAT', 'ACCOUNTANT', 'TAX', 'ACCOUNTANCY', 'BOOKKEEPING', 'AUDIT', 'VAT', 'STATUTORY ACCOUNTS', 'MANAGEMENT ACCOUNTS', 'FINANCE MANAGER', 'CREDIT CONTROL', 'IFRS', 'TAX', 'CIMA ACCA COMMERCIAL', 'FINANCE', 'PROFESSIONAL', 'STATUTORY ACCOUNTS', 'MANAGEMENT ACCOUNTS', 'REPORTING', 'ACCOUNTS ASSISTANT', 'VLOOKUP', 'PURCHASE LEDGER', 'TREASURY', 'SENIOR ACCOUNTANT', 'SENIOR ACCOUNTANT', 'ACCOUNTING', 'AAT', 'ACC', 'SENIOR ACCOUNTANT', 'ACCOUNTANT', 'TAX RETURNS', 'AUDIT ASSISTANT', 'AUDIT SENIOR', 'ACCOUNTS PREPARATION', 'ACCOUNTANCY', 'AAT', 'FINANCIAL ACCOUNTANT', 'ACCOUNTANCY', 'COMMUNICATION SKILLS', 'SME', 'SENIOR ACCOUNTANT', 'ACCOUNTANTS', 'STATEMENT RECONCILIATIONS', 'ACCOUNTANT MANAGER', 'ACCOUNTANT', 'LLOYDS', 'SENIOR ACCOUNTANT', 'LEEDS', 'SLA', 'ACCOUNTANT IN PUBLIC PRACTICE', 'ACCOUNTS ASSISTANT', 'ACCOUNTANT', 'ACA', 'CHARTERED ACCOUNTANCY', 'TAX ACCOUNTANT', 'MANAGEMENT ACCOUNTS', 'MANAGEMENT ACCOUNTS', 'ACCOUNTING', 'FINANCIAL SERVICES', 'AAT', 'LAW FIRM', 'COMMUNICATION', 'DEVELOPMENT', 'GROUP FINANCIAL ACCOUNTANT', 'ACCOUNTING', 'TAX', 'TAX', 'CHARTERED ACCOUNTANTS', 'ACCOUNTING', 'MOTOR TRADE JOBS', 'AAT', 'ACA', 'STATUTORY ACCOUNTS', 'STATUTORY ACCOUNTS', 'VLOOKUP', 'TAX', 'PART QUALIFIED', 'COUNCIL', 'ACA QUALIFIED', 'ASSISTANT MANAGEMENT ACCOUNTANT', 'ACCA', 'FINANCIAL ACCOUNTANT', 'BANK RECONCILIATIONS', 'CIMA', 'PURCHASE ORDERS', 'ACCOUNTANCY FIRM', 'MANAGEMENT ACCOUNTS', 'ACCOUNTANCY', 'CIMA', 'FINANCE', 'MONTH END CLOSE', 'ACCOUNTANT', 'TAX', 'ACCA', 'ACCOUNTANCY FIRM', 'ACCOUNTANCY', 'ACCOUNTANT', 'ACCOUNTANT', 'CORPORATION TAX', 'AAT', 'LEDGER', 'CHARTERED ACCOUNTANTS', 'MANUFACTURING', 'FINANCIAL ACCOUNTANT', 'ASSISTANT ACCOUNTANT', 'REPORTING FINANCIAL ACCOUNTANT', 'MANAGEMENT ACCOUNTS', 'QUALIFIED CHARTERED ACCOUNTANT', 'CENTRAL LONDON', 'ACA', 'SYNDICATE', 'MANAGEMENT ACCOUNTANT', 'AUDIT', 'CORPORATION TAX', 'COMMUNICATION SKILLS', 'VAT RETURNS', 'ACCA', 'TEMPORARY', 'PUBLIC SECTOR', 'ASSISTANT MANAGMENT ACCOUNTANT', 'FINANCIAL ACCOUNTANT', 'ACCOUNTS ASSISTANT', 'ASSISTANT ACCOUNTANT', 'MANAGEMENT ACCOUNTS', 'ACCA', 'MOTOR TRADE', 'TAX', 'FINANCIAL REPORTING', 'XERO', 'QUERIES', 'FINANCIAL ACCOUNTANT', 'CHARTERED ACCOUNTANTS', 'FINANCIAL ACCOUNTING', 'QUALIFIED CHARTERED ACCOUNTANT', 'ACCOUNTANCY FIRM', 'A MONTH END REPORTING ROLE WITH BUSINESS PARTNERING', 'SHARED SERVICES', 'FINANCE', 'ACCOUNTANTS', 'REVIEWING', 'CHARTERED', 'VAT', 'CIMA', 'MANAGEMENT ACCOUNTS', 'ACCOUNTANT', 'REPOERTING ACCOUNTANT', 'CIMA', 'AAT', 'ACCOUNTANT', 'ACCOUNTANTS', 'FINANCIAL ACCOUNTANT', 'FORECASTING', 'GENERAL LEDGER', 'ACA', 'ICAS', 'ACCOUNTS', 'PRACTICE', 'BOOKKEEPING', 'REAL ESTATE', 'STOCK', 'ACCOUNTING', 'DEVELOPMENT ACCOUNTANT', 'PERFORMANCE', 'BOOKKEEPING', 'AP', 'IFRS', 'VAT RETURNS', 'ACCA', 'P&L RESPONSIBILITY', 'XERO', 'ACA', 'ACCOUNTANTS', 'FINANCIAL SERVICES', 'CREDIT', 'AUTOMOTIVE', 'VAT RETURNS', 'JOURNALS', 'ASSISTANT ACCOUNTANT', 'REPORTING ACCOUNTANT', 'PERSONAL EXPENSES', 'MANAGEMENT', 'AAT', 'ACCOUNTING', 'REPORTING', 'EXCEL', 'FINANCIAL REPORTING', 'ACCOUNTANCY', 'MANAGEMENT', 'FINANCIAL CONTROLLER', 'ACA', 'REPORTING', 'AAT', 'PAYROLL', 'ADVANCED EXCEL', 'REPORTING', 'IRIS', 'ACCOUNTS PAYABLE', 'PRACTICE', 'CORPORATION TAX', 'ISIS', 'GROUP REPORTING MANAGER', 'FINANCIAL REPORTING', 'TRAINING', 'STATUTORY ACCOUNTS', 'ACCOUNTANTS', 'ACCOUNTS PAYABLE', 'CLIENT ACCOUNTS', 'TAX RETURNS', 'ACCOUNTS ASSISTANT', 'ACCOUNTANTS', 'MANAGEMENT ACCOUNTANT', 'ACCOUNTS ASSISTANT', 'FINANCE CONTROLLER', 'MANAGEMENT ACCOUNTANT ROLE', 'AAT', 'RECONCILIATIONS', 'ACCOUNTS', 'PART QUALIFIED', 'ACCOUNTING', 'AUDIT', 'AAT', 'ACCOUNTING', 'BRADFORD', 'FINANCIAL AUDITS', 'SENIOR ACCOUNTANT', 'REVENUE', 'INTERPERSONAL SKILLS', 'ACCOUNTANCY', 'EXCEL', 'QUICKBOOKS', 'COLLABORATIVE WORK', 'VAT RETURNS', 'ADVANCED EXCEL', 'ACCOUNTANT', 'ACCA', 'BALANCE SHEET', 'ACCOUNTANT', 'AUTOMOTIVE', 'FRANCHISE ACCOUNTANT', 'ACCA', 'ACCOUNTANCY', 'BRADFORD', 'ACCOUNTANCY', 'TREASURY', 'INSURANCE', 'CITY OF LONDON', 'ACCOUNTANCY', 'ACCOUNTANT', 'DERBY', 'ACCOUNTING', 'TAX', 'AUDIT', 'INVOICES', 'GENERAL LEDGER', 'CIMA', 'CIMA', 'PAYMENT RUN', 'TRAFFORD', 'PAYROLL', 'ACCOUNTANCY', 'ACCOUNTING', 'ACCOUNTING', 'BUDGETING', 'TAX', 'BALANCE SHEET', 'ACCA', 'ACCOUNTANTS', 'ACCOUNTANT', 'FINANCIAL ACCOUNTING', 'SAGE LINE 50', 'RECONCILING', 'ACCA', 'BOOKKEEPING', 'REPORT', 'NEWLY QUALIFIED', 'AUDIT', 'CORPORATION', 'MANAGEMENT', 'CIMA', 'ASSISTANT ACCOUNTANT', 'PART QUALIFIED', 'MONTHLY ACCOUNTS', 'PERMANENT', 'REPORTING', 'INVOICE PROCESSING', 'CIMA OR ACA', 'YEAR END STATUTORY ACCOUNTS', 'CAPITAL ACCOUNTANT', 'CORPORATION TAX', 'ACCOUNTANCY', 'BOOKKEEPING', 'MANAGEMENT ACCOUNTANT', 'ACCOUNTANCY FIRM', 'ACCOUNTANCY FIRM', 'PRACTICE', 'BOOKKEEPER', 'BALANCE SHEET RECONCILIATIONS', 'MANAGEMENT ACCOUNTANT', 'SAGE LINE 50', 'LEICESTER', 'ACA', 'RECONCILIATION', 'CHARTERED ACCOUNTANTS', 'ACCA', 'TAX', 'ACCOUNTS PAYABLE', 'ACCOUNTANCY', 'ACCA', ' TECHNOLOGY MID-TIER', 'PORTFOLIO TECH CLIENTS', ' XERO CLIENTS', 'OUTSOURCING', ' ASSISTANT MANAGEMENT ACCOUNTANT', 'MANAGEMENT ACCOUNTANT', 'PROJECT ACCOUNTANT', 'PAYMENT RUNS', 'BALANCE SHEET', 'ACCOUNTANCY', 'PROPERTY', 'ACCOUNTANT', 'FINANCE', 'ANALYSIS', 'PROBLEM SOLVING', 'ACCOUNTANNT', 'ACCA', 'ACA', 'ACA', 'INDUSTRIAL/ MANUFACTURING ENGINEER', 'MANAGEMENT ACCOUNTANCY', 'UKGAAP', 'VAT', 'CHARTERED ACCOUNTANT', 'MANAGEMENT ACCOUNTS', 'ASSISTANT MANAGEMENT ACCOUNTANT', 'ACMA', 'TAX', 'ACCOUNTANT', 'MANAGEMENT', 'TAX', 'BALANCE SHEET', 'ACA', 'FINANCE MANAGER', 'ACCA', 'FINANCE', 'ACCA', 'FINANCIAL REPORTING', 'ACCA', 'AAT', 'REPORTING MANAGER', 'ACA', 'MANAGEMENT ACCOUNTS', 'ACCOUNTANTS', 'ACCOUNTANCY', 'ACCOUNTANCY', 'SAGE ACCOUNTS', 'MANAGEMENT ACCOUNTS', 'MANAGEMENT ACCOUNTS', 'DEALING', 'ACCOUNTING', 'ACCA', 'MTD', 'SENIOR FINANCIAL ACCOUNTANT', 'ACCA', 'NEWLY QUALIFIED', 'ACCOUNTANT', 'PAYROLL', 'GENERAL PRACTICE', 'TRAINING', 'ACCOUNTING', 'COMMUNICATION SKILLS', 'ACCA', 'TAX RETURNS', 'ACCA', 'BOUGHT LEDGER', 'FINANCE', 'ICAEW', 'PAYROLL,', 'ACCOUNTANCY FIRM', 'LEICESTERSHIRE', 'SAGE', 'QBE', 'ACCOUNTANT', 'ACCRUALS', 'QUALIFIED', 'FINANCE JOBS', 'CIMA', 'ASSISTANT ACCOUNTANT', 'SOLE TRADERS', 'FMCG', 'ACCOUNTANT', 'ACCOUNTS', 'PRACTICE TRAINED', 'AAT', 'ACCOUNTING', 'YEAR END ACCOUNTS', 'ASSISTANT ACCOUNTANT', 'CA', 'QUALIFIED CHARTERED ACCOUNTANT', 'ACA', 'ACCOUNTANCY', 'BUDGETS', 'ACCOUNTANCY', 'CASH FLOW REPORTING', 'PROCESSING INVOICES', 'GROUP ACCOUNTANT', 'CHARTERED ACCOUNTANTS', 'EXTERNAL AUDIT', 'ACCOUNTANT', 'ACCOUNTANT', 'ICAEW', 'FINANCE MANAGER', 'TRAINING', 'ACCOUNTANT', 'ACCOUNTANT', 'TECHNICAL', 'PAYROLL', 'ACCOUNTING', 'ACCOUNT MANAGEMENT ', 'TAX', 'FINANCE MANAGER', 'GROUP ACCOUNTANT', 'MAIN CAR DEALERSHIP', 'MULTICURRENCY', 'ACCOUNTANCY FIRM', 'ACCOUNTS MANAGER', 'PREPAYMENT', 'PRIVATE SECTOR', 'ACCOUNTANT', 'ACCOUNTANT', 'ACCA', 'RECENTLY QUALIFIED', 'APPRENTICESHIP', ' ACA', 'ACCA', 'AAT', 'ACCA', 'SENIOR ACCOUNTANT', 'CLIENT MANAGER', 'ACA']\n"
     ]
    }
   ],
   "source": [
    "print(all_val)\n"
   ]
  },
  {
   "cell_type": "code",
   "execution_count": 10,
   "metadata": {},
   "outputs": [],
   "source": [
    "count_list=[]\n",
    "for i in unique_val:\n",
    "    count = all_val.count(i)\n",
    "    count_list.append(count)    \n"
   ]
  },
  {
   "cell_type": "code",
   "execution_count": 11,
   "metadata": {},
   "outputs": [
    {
     "name": "stdout",
     "output_type": "stream",
     "text": [
      "[1, 2, 1, 14, 15, 5, 8, 23, 6, 18, 1, 1, 3, 1, 3, 15, 1, 1, 29, 1, 2, 10, 28, 1, 1, 1, 18, 1, 8, 5, 9, 1, 1, 1, 3, 2, 2, 3, 1, 8, 1, 18, 1, 3, 10, 6, 3, 5, 17, 28, 8, 2, 3, 1, 3, 16, 2, 1, 1, 8, 16, 7, 23, 9, 5, 7, 3, 3, 1, 1, 5, 9, 3, 2, 10, 1, 1, 5, 2, 2, 2, 2, 7, 10, 1, 4, 1, 2, 1, 1, 2, 2, 2, 1, 3, 1, 1, 1, 3, 1, 10, 1, 1, 1, 1, 1, 8, 1, 1, 14, 2, 1, 1, 1, 1, 5, 1, 3, 1, 1, 3, 1, 1, 29, 1, 5, 1, 8, 1, 3, 1, 1, 6, 1, 1, 1, 1, 1, 1, 1, 1, 1, 1, 1, 2, 3, 3, 1, 1, 1, 1, 1, 1, 2, 1, 2, 1, 8, 1, 1, 5, 5, 1, 1, 3, 1, 1, 3, 3, 3, 1, 1, 1, 3, 3, 2, 1, 1, 1, 1, 1, 5, 1, 2, 1, 1, 1, 1, 1, 1, 1, 2, 1, 1, 2, 1, 1, 1, 1, 1, 1, 1, 6, 2, 1, 1, 1, 29, 1, 1, 1, 1, 1, 6, 1, 1, 1, 1, 1, 1, 1, 1, 1, 3, 1, 1, 1, 1, 1, 1, 2, 1, 1, 2, 1, 1, 3, 1, 1, 8, 1, 1, 1, 1, 1, 1, 1, 2, 1, 2, 1, 1, 1, 1, 1, 1, 1, 1, 1, 1, 1]\n"
     ]
    }
   ],
   "source": [
    "print(count_list)\n"
   ]
  },
  {
   "cell_type": "code",
   "execution_count": 12,
   "metadata": {},
   "outputs": [],
   "source": [
    "dictionary=dict(zip(unique_val,count_list))"
   ]
  },
  {
   "cell_type": "code",
   "execution_count": 13,
   "metadata": {},
   "outputs": [
    {
     "name": "stdout",
     "output_type": "stream",
     "text": [
      "{'FILING': 1, 'ACCOUNTS ADMINISTRATOR': 2, 'SALES LEDGER': 1, 'MANAGEMENT ACCOUNTS': 14, 'CIMA': 15, 'FINANCIAL REPORTING': 5, 'ACCOUNTS ASSISTANT': 8, 'ACCOUNTANCY': 23, 'MANAGEMENT ACCOUNTANT': 6, 'ACCOUNTING': 18, 'ADMIN': 1, 'ACCOUNTS RECEIVABLE': 1, 'EXCEL': 3, 'CASHFLOW ANALYSIS': 1, 'LEEDS': 3, 'ACCA ': 1, 'PROCESS': 1, 'ACCA': 29, 'FINANCE ASSISTANT': 1, 'BOOKKEEPER': 2, 'FINANCE': 10, 'ACCOUNTANT': 28, 'MONTH END': 1, 'IPSWICH PERMANENT': 1, 'QUALIFIED MANAGEMENT': 1, 'ACA': 18, 'ANNUAL BUDGET': 1, 'STATUTORY ACCOUNTS': 8, 'CORPORATION TAX': 5, 'BOOKKEEPING': 9, 'INSOLVENCY': 1, 'COMMERCIAL AWARENESS': 1, 'FCCA': 1, 'XERO': 3, 'QBE': 2, 'CLIENT ACCOUNTS': 2, 'GENERAL LEDGER': 3, 'BOOK KEEPER': 1, 'ASSISTANT ACCOUNTANT': 8, 'PRACTICE ACCOUNTANT': 1, 'MANAGEMENT ACCOUNTS ASSISTANT': 1, 'BANK RECONCILIATIONS': 3, 'ACCOUNTANTS': 10, 'VAT': 6, 'SAGE': 3, 'MANAGEMENT': 5, 'AAT': 17, 'FINANCIAL ACCOUNTANT': 8, 'PART QUALIFIED ACCA': 1, 'TAX': 16, 'PURCHASE LEDGER': 2, 'RELATIONSHIPS': 1, 'ACCOUNTING SOFTWARE': 1, 'AUDIT': 7, 'BALANCE SHEET': 5, 'REPORTING': 7, 'FINANCIAL ACCOUNTING': 3, 'ADVANCED EXCEL': 3, 'ASSETS': 1, 'PROFESSIONAL SERVICES': 1, 'PAYROLL': 5, 'ACCOUNTANCY FIRM': 9, 'ASSISTANT MANAGEMENT ACCOUNTANT': 3, 'ACCOUNT MANAGEMENT': 2, 'SENIOR ACCOUNTANT': 10, 'ACCOUNTANCY PRACTICE': 1, 'DOUBLE ENTRY': 1, 'VAT RETURNS': 5, 'QUALIFIED': 2, 'YEAR END ACCOUNTS': 2, 'ICAS': 2, 'CHARTERED ACCOUNTANT': 2, 'MANAGEMENT INFORMATION': 1, 'FINANCE MANAGER': 4, 'CREDIT CONTROL': 1, 'IFRS': 2, 'CIMA ACCA COMMERCIAL': 1, 'PROFESSIONAL': 1, 'VLOOKUP': 2, 'TREASURY': 2, 'ACC': 1, 'TAX RETURNS': 3, 'AUDIT ASSISTANT': 1, 'AUDIT SENIOR': 1, 'ACCOUNTS PREPARATION': 1, 'COMMUNICATION SKILLS': 3, 'SME': 1, 'STATEMENT RECONCILIATIONS': 1, 'ACCOUNTANT MANAGER': 1, 'LLOYDS': 1, 'SLA': 1, 'ACCOUNTANT IN PUBLIC PRACTICE': 1, 'CHARTERED ACCOUNTANCY': 1, 'TAX ACCOUNTANT': 1, 'FINANCIAL SERVICES': 2, 'LAW FIRM': 1, 'COMMUNICATION': 1, 'DEVELOPMENT': 1, 'GROUP FINANCIAL ACCOUNTANT': 1, 'CHARTERED ACCOUNTANTS': 5, 'MOTOR TRADE JOBS': 1, 'PART QUALIFIED': 3, 'COUNCIL': 1, 'ACA QUALIFIED': 1, 'PURCHASE ORDERS': 1, 'MONTH END CLOSE': 1, 'LEDGER': 1, 'MANUFACTURING': 1, 'REPORTING FINANCIAL ACCOUNTANT': 1, 'QUALIFIED CHARTERED ACCOUNTANT': 3, 'CENTRAL LONDON': 1, 'SYNDICATE': 1, 'TEMPORARY': 1, 'PUBLIC SECTOR': 1, 'ASSISTANT MANAGMENT ACCOUNTANT': 1, 'MOTOR TRADE': 1, 'QUERIES': 1, 'A MONTH END REPORTING ROLE WITH BUSINESS PARTNERING': 1, 'SHARED SERVICES': 1, 'REVIEWING': 1, 'CHARTERED': 1, 'REPOERTING ACCOUNTANT': 1, 'FORECASTING': 1, 'ACCOUNTS': 3, 'PRACTICE': 3, 'REAL ESTATE': 1, 'STOCK': 1, 'DEVELOPMENT ACCOUNTANT': 1, 'PERFORMANCE': 1, 'AP': 1, 'P&L RESPONSIBILITY': 1, 'CREDIT': 1, 'AUTOMOTIVE': 2, 'JOURNALS': 1, 'REPORTING ACCOUNTANT': 1, 'PERSONAL EXPENSES': 1, 'FINANCIAL CONTROLLER': 1, 'IRIS': 1, 'ACCOUNTS PAYABLE': 3, 'ISIS': 1, 'GROUP REPORTING MANAGER': 1, 'TRAINING': 3, 'FINANCE CONTROLLER': 1, 'MANAGEMENT ACCOUNTANT ROLE': 1, 'RECONCILIATIONS': 1, 'BRADFORD': 2, 'FINANCIAL AUDITS': 1, 'REVENUE': 1, 'INTERPERSONAL SKILLS': 1, 'QUICKBOOKS': 1, 'COLLABORATIVE WORK': 1, 'FRANCHISE ACCOUNTANT': 1, 'INSURANCE': 1, 'CITY OF LONDON': 1, 'DERBY': 1, 'INVOICES': 1, 'PAYMENT RUN': 1, 'TRAFFORD': 1, 'BUDGETING': 1, 'SAGE LINE 50': 2, 'RECONCILING': 1, 'REPORT': 1, 'NEWLY QUALIFIED': 2, 'CORPORATION': 1, 'MONTHLY ACCOUNTS': 1, 'PERMANENT': 1, 'INVOICE PROCESSING': 1, 'CIMA OR ACA': 1, 'YEAR END STATUTORY ACCOUNTS': 1, 'CAPITAL ACCOUNTANT': 1, 'BALANCE SHEET RECONCILIATIONS': 1, 'LEICESTER': 1, 'RECONCILIATION': 1, ' TECHNOLOGY MID-TIER': 1, 'PORTFOLIO TECH CLIENTS': 1, ' XERO CLIENTS': 1, 'OUTSOURCING': 1, ' ASSISTANT MANAGEMENT ACCOUNTANT': 1, 'PROJECT ACCOUNTANT': 1, 'PAYMENT RUNS': 1, 'PROPERTY': 1, 'ANALYSIS': 1, 'PROBLEM SOLVING': 1, 'ACCOUNTANNT': 1, 'INDUSTRIAL/ MANUFACTURING ENGINEER': 1, 'MANAGEMENT ACCOUNTANCY': 1, 'UKGAAP': 1, 'ACMA': 1, 'REPORTING MANAGER': 1, 'SAGE ACCOUNTS': 1, 'DEALING': 1, 'MTD': 1, 'SENIOR FINANCIAL ACCOUNTANT': 1, 'GENERAL PRACTICE': 1, 'BOUGHT LEDGER': 1, 'ICAEW': 2, 'PAYROLL,': 1, 'LEICESTERSHIRE': 1, 'ACCRUALS': 1, 'FINANCE JOBS': 1, 'SOLE TRADERS': 1, 'FMCG': 1, 'PRACTICE TRAINED': 1, 'CA': 1, 'BUDGETS': 1, 'CASH FLOW REPORTING': 1, 'PROCESSING INVOICES': 1, 'GROUP ACCOUNTANT': 2, 'EXTERNAL AUDIT': 1, 'TECHNICAL': 1, 'ACCOUNT MANAGEMENT ': 1, 'MAIN CAR DEALERSHIP': 1, 'MULTICURRENCY': 1, 'ACCOUNTS MANAGER': 1, 'PREPAYMENT': 1, 'PRIVATE SECTOR': 1, 'RECENTLY QUALIFIED': 1, 'APPRENTICESHIP': 1, ' ACA': 1, 'CLIENT MANAGER': 1}\n"
     ]
    }
   ],
   "source": [
    "print(dictionary)"
   ]
  },
  {
   "cell_type": "code",
   "execution_count": 214,
   "metadata": {},
   "outputs": [],
   "source": []
  },
  {
   "cell_type": "code",
   "execution_count": 14,
   "metadata": {},
   "outputs": [
    {
     "name": "stdout",
     "output_type": "stream",
     "text": [
      "[1, 2, 1, 14, 15, 5, 8, 23, 6, 18, 1, 1, 3, 1, 3, 15, 1, 1, 29, 1, 2, 10, 28, 1, 1, 1, 18, 1, 8, 5, 9, 1, 1, 1, 3, 2, 2, 3, 1, 8, 1, 18, 1, 3, 10, 6, 3, 5, 17, 28, 8, 2, 3, 1, 3, 16, 2, 1, 1, 8, 16, 7, 23, 9, 5, 7, 3, 3, 1, 1, 5, 9, 3, 2, 10, 1, 1, 5, 2, 2, 2, 2, 7, 10, 1, 4, 1, 2, 1, 1, 2, 2, 2, 1, 3, 1, 1, 1, 3, 1, 10, 1, 1, 1, 1, 1, 8, 1, 1, 14, 2, 1, 1, 1, 1, 5, 1, 3, 1, 1, 3, 1, 1, 29, 1, 5, 1, 8, 1, 3, 1, 1, 6, 1, 1, 1, 1, 1, 1, 1, 1, 1, 1, 1, 2, 3, 3, 1, 1, 1, 1, 1, 1, 2, 1, 2, 1, 8, 1, 1, 5, 5, 1, 1, 3, 1, 1, 3, 3, 3, 1, 1, 1, 3, 3, 2, 1, 1, 1, 1, 1, 5, 1, 2, 1, 1, 1, 1, 1, 1, 1, 2, 1, 1, 2, 1, 1, 1, 1, 1, 1, 1, 6, 2, 1, 1, 1, 29, 1, 1, 1, 1, 1, 6, 1, 1, 1, 1, 1, 1, 1, 1, 1, 3, 1, 1, 1, 1, 1, 1, 2, 1, 1, 2, 1, 1, 3, 1, 1, 8, 1, 1, 1, 1, 1, 1, 1, 2, 1, 2, 1, 1, 1, 1, 1, 1, 1, 1, 1, 1, 1]\n"
     ]
    }
   ],
   "source": [
    "print(count_list)"
   ]
  },
  {
   "cell_type": "code",
   "execution_count": 15,
   "metadata": {},
   "outputs": [],
   "source": [
    "l=count_list"
   ]
  },
  {
   "cell_type": "code",
   "execution_count": 16,
   "metadata": {},
   "outputs": [
    {
     "name": "stdout",
     "output_type": "stream",
     "text": [
      "[1, 2, 1, 14, 15, 5, 8, 23, 6, 18, 1, 1, 3, 1, 3, 15, 1, 1, 29, 1, 2, 10, 28, 1, 1, 1, 18, 1, 8, 5, 9, 1, 1, 1, 3, 2, 2, 3, 1, 8, 1, 18, 1, 3, 10, 6, 3, 5, 17, 28, 8, 2, 3, 1, 3, 16, 2, 1, 1, 8, 16, 7, 23, 9, 5, 7, 3, 3, 1, 1, 5, 9, 3, 2, 10, 1, 1, 5, 2, 2, 2, 2, 7, 10, 1, 4, 1, 2, 1, 1, 2, 2, 2, 1, 3, 1, 1, 1, 3, 1, 10, 1, 1, 1, 1, 1, 8, 1, 1, 14, 2, 1, 1, 1, 1, 5, 1, 3, 1, 1, 3, 1, 1, 29, 1, 5, 1, 8, 1, 3, 1, 1, 6, 1, 1, 1, 1, 1, 1, 1, 1, 1, 1, 1, 2, 3, 3, 1, 1, 1, 1, 1, 1, 2, 1, 2, 1, 8, 1, 1, 5, 5, 1, 1, 3, 1, 1, 3, 3, 3, 1, 1, 1, 3, 3, 2, 1, 1, 1, 1, 1, 5, 1, 2, 1, 1, 1, 1, 1, 1, 1, 2, 1, 1, 2, 1, 1, 1, 1, 1, 1, 1, 6, 2, 1, 1, 1, 29, 1, 1, 1, 1, 1, 6, 1, 1, 1, 1, 1, 1, 1, 1, 1, 3, 1, 1, 1, 1, 1, 1, 2, 1, 1, 2, 1, 1, 3, 1, 1, 8, 1, 1, 1, 1, 1, 1, 1, 2, 1, 2, 1, 1, 1, 1, 1, 1, 1, 1, 1, 1, 1]\n"
     ]
    }
   ],
   "source": [
    "print(l)"
   ]
  },
  {
   "cell_type": "code",
   "execution_count": 17,
   "metadata": {},
   "outputs": [],
   "source": [
    "l.sort(reverse=True)"
   ]
  },
  {
   "cell_type": "code",
   "execution_count": 18,
   "metadata": {},
   "outputs": [
    {
     "name": "stdout",
     "output_type": "stream",
     "text": [
      "[29, 29, 29, 28, 28, 23, 23, 18, 18, 18, 17, 16, 16, 15, 15, 14, 14, 10, 10, 10, 10, 10, 9, 9, 9, 8, 8, 8, 8, 8, 8, 8, 8, 8, 7, 7, 7, 6, 6, 6, 6, 6, 5, 5, 5, 5, 5, 5, 5, 5, 5, 5, 5, 4, 3, 3, 3, 3, 3, 3, 3, 3, 3, 3, 3, 3, 3, 3, 3, 3, 3, 3, 3, 3, 3, 3, 3, 3, 3, 3, 2, 2, 2, 2, 2, 2, 2, 2, 2, 2, 2, 2, 2, 2, 2, 2, 2, 2, 2, 2, 2, 2, 2, 2, 2, 2, 2, 2, 1, 1, 1, 1, 1, 1, 1, 1, 1, 1, 1, 1, 1, 1, 1, 1, 1, 1, 1, 1, 1, 1, 1, 1, 1, 1, 1, 1, 1, 1, 1, 1, 1, 1, 1, 1, 1, 1, 1, 1, 1, 1, 1, 1, 1, 1, 1, 1, 1, 1, 1, 1, 1, 1, 1, 1, 1, 1, 1, 1, 1, 1, 1, 1, 1, 1, 1, 1, 1, 1, 1, 1, 1, 1, 1, 1, 1, 1, 1, 1, 1, 1, 1, 1, 1, 1, 1, 1, 1, 1, 1, 1, 1, 1, 1, 1, 1, 1, 1, 1, 1, 1, 1, 1, 1, 1, 1, 1, 1, 1, 1, 1, 1, 1, 1, 1, 1, 1, 1, 1, 1, 1, 1, 1, 1, 1, 1, 1, 1, 1, 1, 1, 1, 1, 1, 1, 1, 1, 1, 1, 1, 1, 1, 1, 1, 1, 1, 1, 1, 1, 1, 1, 1]\n"
     ]
    }
   ],
   "source": [
    "print(l)"
   ]
  },
  {
   "cell_type": "code",
   "execution_count": null,
   "metadata": {},
   "outputs": [],
   "source": []
  },
  {
   "cell_type": "code",
   "execution_count": 19,
   "metadata": {},
   "outputs": [
    {
     "data": {
      "text/plain": [
       "[('ACCA', 29),\n",
       " ('ACCOUNTANT', 28),\n",
       " ('ACCOUNTANCY', 23),\n",
       " ('ACCOUNTING', 18),\n",
       " ('ACA', 18),\n",
       " ('AAT', 17),\n",
       " ('TAX', 16),\n",
       " ('CIMA', 15),\n",
       " ('MANAGEMENT ACCOUNTS', 14),\n",
       " ('FINANCE', 10),\n",
       " ('ACCOUNTANTS', 10),\n",
       " ('SENIOR ACCOUNTANT', 10),\n",
       " ('BOOKKEEPING', 9),\n",
       " ('ACCOUNTANCY FIRM', 9),\n",
       " ('ACCOUNTS ASSISTANT', 8),\n",
       " ('STATUTORY ACCOUNTS', 8),\n",
       " ('ASSISTANT ACCOUNTANT', 8),\n",
       " ('FINANCIAL ACCOUNTANT', 8),\n",
       " ('AUDIT', 7),\n",
       " ('REPORTING', 7),\n",
       " ('MANAGEMENT ACCOUNTANT', 6),\n",
       " ('VAT', 6),\n",
       " ('FINANCIAL REPORTING', 5),\n",
       " ('CORPORATION TAX', 5),\n",
       " ('MANAGEMENT', 5),\n",
       " ('BALANCE SHEET', 5),\n",
       " ('PAYROLL', 5),\n",
       " ('VAT RETURNS', 5),\n",
       " ('CHARTERED ACCOUNTANTS', 5),\n",
       " ('FINANCE MANAGER', 4),\n",
       " ('EXCEL', 3),\n",
       " ('LEEDS', 3),\n",
       " ('XERO', 3),\n",
       " ('GENERAL LEDGER', 3),\n",
       " ('BANK RECONCILIATIONS', 3),\n",
       " ('SAGE', 3),\n",
       " ('FINANCIAL ACCOUNTING', 3),\n",
       " ('ADVANCED EXCEL', 3),\n",
       " ('ASSISTANT MANAGEMENT ACCOUNTANT', 3),\n",
       " ('TAX RETURNS', 3),\n",
       " ('COMMUNICATION SKILLS', 3),\n",
       " ('PART QUALIFIED', 3),\n",
       " ('QUALIFIED CHARTERED ACCOUNTANT', 3),\n",
       " ('ACCOUNTS', 3),\n",
       " ('PRACTICE', 3),\n",
       " ('ACCOUNTS PAYABLE', 3),\n",
       " ('TRAINING', 3),\n",
       " ('ACCOUNTS ADMINISTRATOR', 2),\n",
       " ('BOOKKEEPER', 2),\n",
       " ('QBE', 2),\n",
       " ('CLIENT ACCOUNTS', 2),\n",
       " ('PURCHASE LEDGER', 2),\n",
       " ('ACCOUNT MANAGEMENT', 2),\n",
       " ('QUALIFIED', 2),\n",
       " ('YEAR END ACCOUNTS', 2),\n",
       " ('ICAS', 2),\n",
       " ('CHARTERED ACCOUNTANT', 2),\n",
       " ('IFRS', 2),\n",
       " ('VLOOKUP', 2),\n",
       " ('TREASURY', 2),\n",
       " ('FINANCIAL SERVICES', 2),\n",
       " ('AUTOMOTIVE', 2),\n",
       " ('BRADFORD', 2),\n",
       " ('SAGE LINE 50', 2),\n",
       " ('NEWLY QUALIFIED', 2),\n",
       " ('ICAEW', 2),\n",
       " ('GROUP ACCOUNTANT', 2),\n",
       " ('FILING', 1),\n",
       " ('SALES LEDGER', 1),\n",
       " ('ADMIN', 1),\n",
       " ('ACCOUNTS RECEIVABLE', 1),\n",
       " ('CASHFLOW ANALYSIS', 1),\n",
       " ('ACCA ', 1),\n",
       " ('PROCESS', 1),\n",
       " ('FINANCE ASSISTANT', 1),\n",
       " ('MONTH END', 1),\n",
       " ('IPSWICH PERMANENT', 1),\n",
       " ('QUALIFIED MANAGEMENT', 1),\n",
       " ('ANNUAL BUDGET', 1),\n",
       " ('INSOLVENCY', 1),\n",
       " ('COMMERCIAL AWARENESS', 1),\n",
       " ('FCCA', 1),\n",
       " ('BOOK KEEPER', 1),\n",
       " ('PRACTICE ACCOUNTANT', 1),\n",
       " ('MANAGEMENT ACCOUNTS ASSISTANT', 1),\n",
       " ('PART QUALIFIED ACCA', 1),\n",
       " ('RELATIONSHIPS', 1),\n",
       " ('ACCOUNTING SOFTWARE', 1),\n",
       " ('ASSETS', 1),\n",
       " ('PROFESSIONAL SERVICES', 1),\n",
       " ('ACCOUNTANCY PRACTICE', 1),\n",
       " ('DOUBLE ENTRY', 1),\n",
       " ('MANAGEMENT INFORMATION', 1),\n",
       " ('CREDIT CONTROL', 1),\n",
       " ('CIMA ACCA COMMERCIAL', 1),\n",
       " ('PROFESSIONAL', 1),\n",
       " ('ACC', 1),\n",
       " ('AUDIT ASSISTANT', 1),\n",
       " ('AUDIT SENIOR', 1),\n",
       " ('ACCOUNTS PREPARATION', 1),\n",
       " ('SME', 1),\n",
       " ('STATEMENT RECONCILIATIONS', 1),\n",
       " ('ACCOUNTANT MANAGER', 1),\n",
       " ('LLOYDS', 1),\n",
       " ('SLA', 1),\n",
       " ('ACCOUNTANT IN PUBLIC PRACTICE', 1),\n",
       " ('CHARTERED ACCOUNTANCY', 1),\n",
       " ('TAX ACCOUNTANT', 1),\n",
       " ('LAW FIRM', 1),\n",
       " ('COMMUNICATION', 1),\n",
       " ('DEVELOPMENT', 1),\n",
       " ('GROUP FINANCIAL ACCOUNTANT', 1),\n",
       " ('MOTOR TRADE JOBS', 1),\n",
       " ('COUNCIL', 1),\n",
       " ('ACA QUALIFIED', 1),\n",
       " ('PURCHASE ORDERS', 1),\n",
       " ('MONTH END CLOSE', 1),\n",
       " ('LEDGER', 1),\n",
       " ('MANUFACTURING', 1),\n",
       " ('REPORTING FINANCIAL ACCOUNTANT', 1),\n",
       " ('CENTRAL LONDON', 1),\n",
       " ('SYNDICATE', 1),\n",
       " ('TEMPORARY', 1),\n",
       " ('PUBLIC SECTOR', 1),\n",
       " ('ASSISTANT MANAGMENT ACCOUNTANT', 1),\n",
       " ('MOTOR TRADE', 1),\n",
       " ('QUERIES', 1),\n",
       " ('A MONTH END REPORTING ROLE WITH BUSINESS PARTNERING', 1),\n",
       " ('SHARED SERVICES', 1),\n",
       " ('REVIEWING', 1),\n",
       " ('CHARTERED', 1),\n",
       " ('REPOERTING ACCOUNTANT', 1),\n",
       " ('FORECASTING', 1),\n",
       " ('REAL ESTATE', 1),\n",
       " ('STOCK', 1),\n",
       " ('DEVELOPMENT ACCOUNTANT', 1),\n",
       " ('PERFORMANCE', 1),\n",
       " ('AP', 1),\n",
       " ('P&L RESPONSIBILITY', 1),\n",
       " ('CREDIT', 1),\n",
       " ('JOURNALS', 1),\n",
       " ('REPORTING ACCOUNTANT', 1),\n",
       " ('PERSONAL EXPENSES', 1),\n",
       " ('FINANCIAL CONTROLLER', 1),\n",
       " ('IRIS', 1),\n",
       " ('ISIS', 1),\n",
       " ('GROUP REPORTING MANAGER', 1),\n",
       " ('FINANCE CONTROLLER', 1),\n",
       " ('MANAGEMENT ACCOUNTANT ROLE', 1),\n",
       " ('RECONCILIATIONS', 1),\n",
       " ('FINANCIAL AUDITS', 1),\n",
       " ('REVENUE', 1),\n",
       " ('INTERPERSONAL SKILLS', 1),\n",
       " ('QUICKBOOKS', 1),\n",
       " ('COLLABORATIVE WORK', 1),\n",
       " ('FRANCHISE ACCOUNTANT', 1),\n",
       " ('INSURANCE', 1),\n",
       " ('CITY OF LONDON', 1),\n",
       " ('DERBY', 1),\n",
       " ('INVOICES', 1),\n",
       " ('PAYMENT RUN', 1),\n",
       " ('TRAFFORD', 1),\n",
       " ('BUDGETING', 1),\n",
       " ('RECONCILING', 1),\n",
       " ('REPORT', 1),\n",
       " ('CORPORATION', 1),\n",
       " ('MONTHLY ACCOUNTS', 1),\n",
       " ('PERMANENT', 1),\n",
       " ('INVOICE PROCESSING', 1),\n",
       " ('CIMA OR ACA', 1),\n",
       " ('YEAR END STATUTORY ACCOUNTS', 1),\n",
       " ('CAPITAL ACCOUNTANT', 1),\n",
       " ('BALANCE SHEET RECONCILIATIONS', 1),\n",
       " ('LEICESTER', 1),\n",
       " ('RECONCILIATION', 1),\n",
       " (' TECHNOLOGY MID-TIER', 1),\n",
       " ('PORTFOLIO TECH CLIENTS', 1),\n",
       " (' XERO CLIENTS', 1),\n",
       " ('OUTSOURCING', 1),\n",
       " (' ASSISTANT MANAGEMENT ACCOUNTANT', 1),\n",
       " ('PROJECT ACCOUNTANT', 1),\n",
       " ('PAYMENT RUNS', 1),\n",
       " ('PROPERTY', 1),\n",
       " ('ANALYSIS', 1),\n",
       " ('PROBLEM SOLVING', 1),\n",
       " ('ACCOUNTANNT', 1),\n",
       " ('INDUSTRIAL/ MANUFACTURING ENGINEER', 1),\n",
       " ('MANAGEMENT ACCOUNTANCY', 1),\n",
       " ('UKGAAP', 1),\n",
       " ('ACMA', 1),\n",
       " ('REPORTING MANAGER', 1),\n",
       " ('SAGE ACCOUNTS', 1),\n",
       " ('DEALING', 1),\n",
       " ('MTD', 1),\n",
       " ('SENIOR FINANCIAL ACCOUNTANT', 1),\n",
       " ('GENERAL PRACTICE', 1),\n",
       " ('BOUGHT LEDGER', 1),\n",
       " ('PAYROLL,', 1),\n",
       " ('LEICESTERSHIRE', 1),\n",
       " ('ACCRUALS', 1),\n",
       " ('FINANCE JOBS', 1),\n",
       " ('SOLE TRADERS', 1),\n",
       " ('FMCG', 1),\n",
       " ('PRACTICE TRAINED', 1),\n",
       " ('CA', 1),\n",
       " ('BUDGETS', 1),\n",
       " ('CASH FLOW REPORTING', 1),\n",
       " ('PROCESSING INVOICES', 1),\n",
       " ('EXTERNAL AUDIT', 1),\n",
       " ('TECHNICAL', 1),\n",
       " ('ACCOUNT MANAGEMENT ', 1),\n",
       " ('MAIN CAR DEALERSHIP', 1),\n",
       " ('MULTICURRENCY', 1),\n",
       " ('ACCOUNTS MANAGER', 1),\n",
       " ('PREPAYMENT', 1),\n",
       " ('PRIVATE SECTOR', 1),\n",
       " ('RECENTLY QUALIFIED', 1),\n",
       " ('APPRENTICESHIP', 1),\n",
       " (' ACA', 1),\n",
       " ('CLIENT MANAGER', 1)]"
      ]
     },
     "execution_count": 19,
     "metadata": {},
     "output_type": "execute_result"
    }
   ],
   "source": [
    "sorted(dictionary.items(), key=lambda x: x[1], reverse=True)"
   ]
  },
  {
   "cell_type": "code",
   "execution_count": 20,
   "metadata": {},
   "outputs": [],
   "source": [
    "with open('sorted_accountant.csv', 'w') as f:\n",
    "    for key in dictionary.keys():\n",
    "        f.write(\"%s,%s\\n\"%(key,dictionary[key]))"
   ]
  },
  {
   "cell_type": "code",
   "execution_count": 21,
   "metadata": {},
   "outputs": [
    {
     "name": "stdout",
     "output_type": "stream",
     "text": [
      "[('ACCA', 29), ('ACCOUNTANT', 28), ('ACCOUNTANCY', 23), ('ACCOUNTING', 18), ('ACA', 18), ('AAT', 17), ('TAX', 16), ('CIMA', 15), ('MANAGEMENT ACCOUNTS', 14), ('FINANCE', 10), ('ACCOUNTANTS', 10), ('SENIOR ACCOUNTANT', 10), ('BOOKKEEPING', 9), ('ACCOUNTANCY FIRM', 9), ('ACCOUNTS ASSISTANT', 8), ('STATUTORY ACCOUNTS', 8), ('ASSISTANT ACCOUNTANT', 8), ('FINANCIAL ACCOUNTANT', 8), ('AUDIT', 7), ('REPORTING', 7), ('MANAGEMENT ACCOUNTANT', 6), ('VAT', 6), ('FINANCIAL REPORTING', 5), ('CORPORATION TAX', 5), ('MANAGEMENT', 5), ('BALANCE SHEET', 5), ('PAYROLL', 5), ('VAT RETURNS', 5), ('CHARTERED ACCOUNTANTS', 5), ('FINANCE MANAGER', 4), ('EXCEL', 3), ('LEEDS', 3), ('XERO', 3), ('GENERAL LEDGER', 3), ('BANK RECONCILIATIONS', 3), ('SAGE', 3), ('FINANCIAL ACCOUNTING', 3), ('ADVANCED EXCEL', 3), ('ASSISTANT MANAGEMENT ACCOUNTANT', 3), ('TAX RETURNS', 3), ('COMMUNICATION SKILLS', 3), ('PART QUALIFIED', 3), ('QUALIFIED CHARTERED ACCOUNTANT', 3), ('ACCOUNTS', 3), ('PRACTICE', 3), ('ACCOUNTS PAYABLE', 3), ('TRAINING', 3), ('ACCOUNTS ADMINISTRATOR', 2), ('BOOKKEEPER', 2), ('QBE', 2), ('CLIENT ACCOUNTS', 2), ('PURCHASE LEDGER', 2), ('ACCOUNT MANAGEMENT', 2), ('QUALIFIED', 2), ('YEAR END ACCOUNTS', 2), ('ICAS', 2), ('CHARTERED ACCOUNTANT', 2), ('IFRS', 2), ('VLOOKUP', 2), ('TREASURY', 2), ('FINANCIAL SERVICES', 2), ('AUTOMOTIVE', 2), ('BRADFORD', 2), ('SAGE LINE 50', 2), ('NEWLY QUALIFIED', 2), ('ICAEW', 2), ('GROUP ACCOUNTANT', 2), ('FILING', 1), ('SALES LEDGER', 1), ('ADMIN', 1), ('ACCOUNTS RECEIVABLE', 1), ('CASHFLOW ANALYSIS', 1), ('ACCA ', 1), ('PROCESS', 1), ('FINANCE ASSISTANT', 1), ('MONTH END', 1), ('IPSWICH PERMANENT', 1), ('QUALIFIED MANAGEMENT', 1), ('ANNUAL BUDGET', 1), ('INSOLVENCY', 1), ('COMMERCIAL AWARENESS', 1), ('FCCA', 1), ('BOOK KEEPER', 1), ('PRACTICE ACCOUNTANT', 1), ('MANAGEMENT ACCOUNTS ASSISTANT', 1), ('PART QUALIFIED ACCA', 1), ('RELATIONSHIPS', 1), ('ACCOUNTING SOFTWARE', 1), ('ASSETS', 1), ('PROFESSIONAL SERVICES', 1), ('ACCOUNTANCY PRACTICE', 1), ('DOUBLE ENTRY', 1), ('MANAGEMENT INFORMATION', 1), ('CREDIT CONTROL', 1), ('CIMA ACCA COMMERCIAL', 1), ('PROFESSIONAL', 1), ('ACC', 1), ('AUDIT ASSISTANT', 1), ('AUDIT SENIOR', 1), ('ACCOUNTS PREPARATION', 1), ('SME', 1), ('STATEMENT RECONCILIATIONS', 1), ('ACCOUNTANT MANAGER', 1), ('LLOYDS', 1), ('SLA', 1), ('ACCOUNTANT IN PUBLIC PRACTICE', 1), ('CHARTERED ACCOUNTANCY', 1), ('TAX ACCOUNTANT', 1), ('LAW FIRM', 1), ('COMMUNICATION', 1), ('DEVELOPMENT', 1), ('GROUP FINANCIAL ACCOUNTANT', 1), ('MOTOR TRADE JOBS', 1), ('COUNCIL', 1), ('ACA QUALIFIED', 1), ('PURCHASE ORDERS', 1), ('MONTH END CLOSE', 1), ('LEDGER', 1), ('MANUFACTURING', 1), ('REPORTING FINANCIAL ACCOUNTANT', 1), ('CENTRAL LONDON', 1), ('SYNDICATE', 1), ('TEMPORARY', 1), ('PUBLIC SECTOR', 1), ('ASSISTANT MANAGMENT ACCOUNTANT', 1), ('MOTOR TRADE', 1), ('QUERIES', 1), ('A MONTH END REPORTING ROLE WITH BUSINESS PARTNERING', 1), ('SHARED SERVICES', 1), ('REVIEWING', 1), ('CHARTERED', 1), ('REPOERTING ACCOUNTANT', 1), ('FORECASTING', 1), ('REAL ESTATE', 1), ('STOCK', 1), ('DEVELOPMENT ACCOUNTANT', 1), ('PERFORMANCE', 1), ('AP', 1), ('P&L RESPONSIBILITY', 1), ('CREDIT', 1), ('JOURNALS', 1), ('REPORTING ACCOUNTANT', 1), ('PERSONAL EXPENSES', 1), ('FINANCIAL CONTROLLER', 1), ('IRIS', 1), ('ISIS', 1), ('GROUP REPORTING MANAGER', 1), ('FINANCE CONTROLLER', 1), ('MANAGEMENT ACCOUNTANT ROLE', 1), ('RECONCILIATIONS', 1), ('FINANCIAL AUDITS', 1), ('REVENUE', 1), ('INTERPERSONAL SKILLS', 1), ('QUICKBOOKS', 1), ('COLLABORATIVE WORK', 1), ('FRANCHISE ACCOUNTANT', 1), ('INSURANCE', 1), ('CITY OF LONDON', 1), ('DERBY', 1), ('INVOICES', 1), ('PAYMENT RUN', 1), ('TRAFFORD', 1), ('BUDGETING', 1), ('RECONCILING', 1), ('REPORT', 1), ('CORPORATION', 1), ('MONTHLY ACCOUNTS', 1), ('PERMANENT', 1), ('INVOICE PROCESSING', 1), ('CIMA OR ACA', 1), ('YEAR END STATUTORY ACCOUNTS', 1), ('CAPITAL ACCOUNTANT', 1), ('BALANCE SHEET RECONCILIATIONS', 1), ('LEICESTER', 1), ('RECONCILIATION', 1), (' TECHNOLOGY MID-TIER', 1), ('PORTFOLIO TECH CLIENTS', 1), (' XERO CLIENTS', 1), ('OUTSOURCING', 1), (' ASSISTANT MANAGEMENT ACCOUNTANT', 1), ('PROJECT ACCOUNTANT', 1), ('PAYMENT RUNS', 1), ('PROPERTY', 1), ('ANALYSIS', 1), ('PROBLEM SOLVING', 1), ('ACCOUNTANNT', 1), ('INDUSTRIAL/ MANUFACTURING ENGINEER', 1), ('MANAGEMENT ACCOUNTANCY', 1), ('UKGAAP', 1), ('ACMA', 1), ('REPORTING MANAGER', 1), ('SAGE ACCOUNTS', 1), ('DEALING', 1), ('MTD', 1), ('SENIOR FINANCIAL ACCOUNTANT', 1), ('GENERAL PRACTICE', 1), ('BOUGHT LEDGER', 1), ('PAYROLL,', 1), ('LEICESTERSHIRE', 1), ('ACCRUALS', 1), ('FINANCE JOBS', 1), ('SOLE TRADERS', 1), ('FMCG', 1), ('PRACTICE TRAINED', 1), ('CA', 1), ('BUDGETS', 1), ('CASH FLOW REPORTING', 1), ('PROCESSING INVOICES', 1), ('EXTERNAL AUDIT', 1), ('TECHNICAL', 1), ('ACCOUNT MANAGEMENT ', 1), ('MAIN CAR DEALERSHIP', 1), ('MULTICURRENCY', 1), ('ACCOUNTS MANAGER', 1), ('PREPAYMENT', 1), ('PRIVATE SECTOR', 1), ('RECENTLY QUALIFIED', 1), ('APPRENTICESHIP', 1), (' ACA', 1), ('CLIENT MANAGER', 1)]\n"
     ]
    }
   ],
   "source": [
    "newdic=sorted(dictionary.items(), key=lambda x: x[1], reverse=True)\n",
    "print(newdic)"
   ]
  },
  {
   "cell_type": "code",
   "execution_count": 22,
   "metadata": {},
   "outputs": [],
   "source": [
    "with open('sorted_accountant.csv', 'w', newline='') as myfile:\n",
    "    wr = csv.writer(myfile, quoting=csv.QUOTE_ALL)\n",
    "    wr.writerow(newdic)"
   ]
  },
  {
   "cell_type": "code",
   "execution_count": null,
   "metadata": {},
   "outputs": [],
   "source": []
  }
 ],
 "metadata": {
  "kernelspec": {
   "display_name": "Python 3",
   "language": "python",
   "name": "python3"
  },
  "language_info": {
   "codemirror_mode": {
    "name": "ipython",
    "version": 3
   },
   "file_extension": ".py",
   "mimetype": "text/x-python",
   "name": "python",
   "nbconvert_exporter": "python",
   "pygments_lexer": "ipython3",
   "version": "3.7.2"
  }
 },
 "nbformat": 4,
 "nbformat_minor": 2
}
